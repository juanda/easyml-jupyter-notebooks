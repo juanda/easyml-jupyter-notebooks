{
 "cells": [
  {
   "cell_type": "code",
   "execution_count": 102,
   "metadata": {},
   "outputs": [],
   "source": [
    "import json\n",
    "import numpy as np"
   ]
  },
  {
   "cell_type": "code",
   "execution_count": 103,
   "metadata": {},
   "outputs": [],
   "source": [
    "with open('/Users/juanda/Downloads/emociones.json') as file:\n",
    "    input_data = json.load(file)"
   ]
  },
  {
   "cell_type": "markdown",
   "metadata": {},
   "source": [
    "Convierto el formato del json a un dataset, que será un array de objetos de tipo {input: 'el texto', output: 'la etiqueta'}"
   ]
  },
  {
   "cell_type": "code",
   "execution_count": 107,
   "metadata": {},
   "outputs": [
    {
     "data": {
      "text/plain": [
       "array(dict_keys(['contento', 'triste']), dtype=object)"
      ]
     },
     "execution_count": 107,
     "metadata": {},
     "output_type": "execute_result"
    }
   ],
   "source": [
    "ds_input_data = []\n",
    "li_labels = list(emociones.keys())\n",
    "for label in emociones.keys():\n",
    "    for text in input_data[label]:\n",
    "        ds_input_data.append({'input': text, 'output': label})\n",
    "ar_labels"
   ]
  },
  {
   "cell_type": "code",
   "execution_count": 105,
   "metadata": {},
   "outputs": [],
   "source": [
    "from random import shuffle\n",
    "#shuffle(ds_input_data)"
   ]
  },
  {
   "cell_type": "code",
   "execution_count": 99,
   "metadata": {},
   "outputs": [],
   "source": [
    "import import_ipynb\n",
    "import bag_of_words as bow"
   ]
  },
  {
   "cell_type": "code",
   "execution_count": 119,
   "metadata": {},
   "outputs": [],
   "source": [
    "import numpy as np\n",
    "texts = [entry['input'] for entry in ds_input_data]\n",
    "labels = [utils.to_categorical(li_labels.index(entry['output']), num_classes=2) for entry in ds_input_data]\n",
    "\n",
    "dictionary = bow.extractDictionary(texts)\n",
    "\n",
    "vc_input = np.array([bow.bow(text, dictionary) for text in texts])\n",
    "vc_labels = np.array(labels)\n"
   ]
  },
  {
   "cell_type": "code",
   "execution_count": 78,
   "metadata": {},
   "outputs": [],
   "source": [
    "from keras import models\n",
    "from keras import layers\n",
    "from keras import utils"
   ]
  }
 ],
 "metadata": {
  "kernelspec": {
   "display_name": "Python 3",
   "language": "python",
   "name": "python3"
  },
  "language_info": {
   "codemirror_mode": {
    "name": "ipython",
    "version": 3
   },
   "file_extension": ".py",
   "mimetype": "text/x-python",
   "name": "python",
   "nbconvert_exporter": "python",
   "pygments_lexer": "ipython3",
   "version": "3.7.3"
  }
 },
 "nbformat": 4,
 "nbformat_minor": 2
}
