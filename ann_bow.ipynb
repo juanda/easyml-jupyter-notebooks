{
 "cells": [
  {
   "cell_type": "code",
   "execution_count": 1,
   "metadata": {},
   "outputs": [
    {
     "name": "stderr",
     "output_type": "stream",
     "text": [
      "Using TensorFlow backend.\n"
     ]
    }
   ],
   "source": [
    "import json\n",
    "import numpy as np\n",
    "from keras import models\n",
    "from keras import layers\n",
    "from keras import optimizers\n",
    "from keras import utils"
   ]
  },
  {
   "cell_type": "code",
   "execution_count": 2,
   "metadata": {},
   "outputs": [],
   "source": [
    "with open('/vagrant/emociones.json') as file:\n",
    "    input_data = json.load(file)"
   ]
  },
  {
   "cell_type": "markdown",
   "metadata": {},
   "source": [
    "Convierto el formato del json a un dataset, que será un array de objetos de tipo {input: 'el texto', output: 'la etiqueta'}"
   ]
  },
  {
   "cell_type": "code",
   "execution_count": 3,
   "metadata": {},
   "outputs": [],
   "source": [
    "ds_input_data = []\n",
    "li_labels = list(input_data.keys())\n",
    "for label in input_data.keys():\n",
    "    for text in input_data[label]:\n",
    "        ds_input_data.append({'input': text, 'output': label})\n"
   ]
  },
  {
   "cell_type": "code",
   "execution_count": 4,
   "metadata": {},
   "outputs": [],
   "source": [
    "from random import shuffle\n",
    "shuffle(ds_input_data)"
   ]
  },
  {
   "cell_type": "code",
   "execution_count": 5,
   "metadata": {},
   "outputs": [
    {
     "name": "stdout",
     "output_type": "stream",
     "text": [
      "importing Jupyter notebook from bag_of_words.ipynb\n",
      "['Del', 'salón', 'en', 'el', 'ángulo', 'oscuro', 'de', 'su', 'dueño', 'tal', 'vez', 'olvidada']\n",
      "{'words': ['erase', 'un', 'hombre', 'a', 'una', 'nariz', 'pegado', 'superlativa'], 'dictionary': {'erase': 2, 'un': 1, 'hombre': 1, 'a': 1, 'una': 2, 'nariz': 2, 'pegado': 1, 'superlativa': 1}}\n",
      "[2, 1, 1, 1, 1, 1, 1, 0]\n"
     ]
    }
   ],
   "source": [
    "import import_ipynb\n",
    "import bag_of_words as bow"
   ]
  },
  {
   "cell_type": "code",
   "execution_count": 6,
   "metadata": {},
   "outputs": [],
   "source": [
    "import numpy as np\n",
    "\n",
    "texts = [entry['input'] for entry in ds_input_data]\n",
    "labels = [utils.to_categorical(li_labels.index(entry['output']), num_classes=2) for entry in ds_input_data]\n",
    "\n",
    "dictionary = bow.extractDictionary(texts)"
   ]
  },
  {
   "cell_type": "markdown",
   "metadata": {},
   "source": [
    "La función vectorize convierte un objeto de tipo {input: 'el texto', output: 'la etiqueta'} en otro de tipo de tipo {input: np.array(...), output: np.array(...)}. Es decir en una entrada y salida válida para introducir en la red neuronal."
   ]
  },
  {
   "cell_type": "code",
   "execution_count": 7,
   "metadata": {},
   "outputs": [],
   "source": [
    "def vectorize_input(text):   \n",
    "    return np.array(bow.bow(text, dictionary))"
   ]
  },
  {
   "cell_type": "code",
   "execution_count": 8,
   "metadata": {},
   "outputs": [],
   "source": [
    "def vectorize_output(label, n):\n",
    "    return utils.to_categorical(li_labels.index(label), num_classes=n)"
   ]
  },
  {
   "cell_type": "code",
   "execution_count": 28,
   "metadata": {},
   "outputs": [
    {
     "name": "stdout",
     "output_type": "stream",
     "text": [
      "[[1. 1. 0. 0. 0. 0. 0. 0. 0. 0. 0. 0. 0. 0. 0. 0. 0. 0.]\n",
      " [0. 0. 1. 1. 0. 0. 0. 0. 0. 0. 0. 0. 0. 0. 0. 0. 0. 0.]\n",
      " [0. 0. 0. 0. 1. 1. 0. 0. 0. 0. 0. 0. 0. 0. 0. 0. 0. 0.]\n",
      " [0. 0. 0. 0. 0. 0. 1. 1. 1. 0. 0. 0. 0. 0. 0. 0. 0. 0.]\n",
      " [0. 0. 0. 0. 1. 0. 0. 0. 0. 1. 0. 0. 0. 0. 0. 0. 0. 0.]\n",
      " [1. 0. 0. 0. 0. 0. 0. 0. 0. 0. 1. 0. 0. 0. 0. 0. 0. 0.]\n",
      " [0. 0. 0. 0. 0. 0. 0. 0. 0. 0. 0. 1. 1. 0. 0. 0. 0. 0.]\n",
      " [0. 0. 0. 0. 0. 0. 0. 0. 0. 0. 0. 0. 0. 1. 1. 1. 0. 0.]\n",
      " [0. 0. 0. 0. 1. 0. 0. 0. 0. 0. 0. 0. 0. 0. 0. 0. 1. 0.]\n",
      " [1. 0. 0. 0. 0. 0. 0. 0. 0. 0. 0. 0. 0. 0. 0. 0. 0. 1.]]\n",
      "[[1. 0.]\n",
      " [0. 1.]\n",
      " [1. 0.]\n",
      " [0. 1.]\n",
      " [0. 1.]\n",
      " [1. 0.]\n",
      " [0. 1.]\n",
      " [0. 1.]\n",
      " [1. 0.]\n",
      " [1. 0.]]\n"
     ]
    }
   ],
   "source": [
    "vc_inputs = np.array([vectorize_input(entry['input']) for entry in ds_input_data])\n",
    "vc_inputs = vc_inputs.astype('float32')\n",
    "vc_outputs = np.array([vectorize_output(entry['output'], 2) for entry in ds_input_data])\n",
    "print(vc_inputs)\n",
    "print(vc_outputs)\n"
   ]
  },
  {
   "cell_type": "code",
   "execution_count": 33,
   "metadata": {},
   "outputs": [],
   "source": [
    "input_size = vc_inputs.shape[1]\n",
    "model = models.Sequential()\n",
    "model.add(layers.Dense(units=18, activation='sigmoid', input_shape=(input_size,)))\n",
    "model.add(layers.Dense(units=2, activation='softmax'))"
   ]
  },
  {
   "cell_type": "code",
   "execution_count": 34,
   "metadata": {},
   "outputs": [],
   "source": [
    "\n",
    "model.compile(optimizer='rmsprop', loss='categorical_crossentropy', metrics=['accuracy'])\n"
   ]
  },
  {
   "cell_type": "code",
   "execution_count": 35,
   "metadata": {},
   "outputs": [
    {
     "name": "stdout",
     "output_type": "stream",
     "text": [
      "Epoch 1/5\n",
      "10/10 [==============================] - 0s 32ms/step - loss: 0.7815 - acc: 0.5000\n",
      "Epoch 2/5\n",
      "10/10 [==============================] - 0s 133us/step - loss: 0.7626 - acc: 0.5000\n",
      "Epoch 3/5\n",
      "10/10 [==============================] - 0s 154us/step - loss: 0.7499 - acc: 0.5000\n",
      "Epoch 4/5\n",
      "10/10 [==============================] - 0s 159us/step - loss: 0.7400 - acc: 0.5000\n",
      "Epoch 5/5\n",
      "10/10 [==============================] - 0s 144us/step - loss: 0.7315 - acc: 0.5000\n"
     ]
    },
    {
     "data": {
      "text/plain": [
       "<keras.callbacks.History at 0x7f605a717470>"
      ]
     },
     "execution_count": 35,
     "metadata": {},
     "output_type": "execute_result"
    }
   ],
   "source": [
    "model.fit(vc_inputs, vc_outputs, epochs=5, batch_size=32)"
   ]
  },
  {
   "cell_type": "code",
   "execution_count": 36,
   "metadata": {},
   "outputs": [
    {
     "name": "stdout",
     "output_type": "stream",
     "text": [
      "{'words': ['que', 'guay', 'peor', 'imposible', 'estoy', 'feliz', 'me', 'encuentro', 'mal', 'fatal', 'felicidad', 'vaya', 'mierda', 'esto', 'es', 'horroroso', 'contento', 'chulo'], 'dictionary': {'que': 3, 'guay': 1, 'peor': 1, 'imposible': 1, 'estoy': 3, 'feliz': 1, 'me': 1, 'encuentro': 1, 'mal': 1, 'fatal': 1, 'felicidad': 1, 'vaya': 1, 'mierda': 1, 'esto': 1, 'es': 1, 'horroroso': 1, 'contento': 1, 'chulo': 1}}\n",
      "[[0 0 0 0 1 0 0 0 0 0 0 0 0 0 0 0 1 0]\n",
      " [0 0 0 0 0 0 0 0 0 0 0 1 1 0 0 0 0 0]]\n"
     ]
    },
    {
     "data": {
      "text/plain": [
       "array([[0.65190893, 0.348091  ],\n",
       "       [0.6149154 , 0.38508457]], dtype=float32)"
      ]
     },
     "execution_count": 36,
     "metadata": {},
     "output_type": "execute_result"
    }
   ],
   "source": [
    "print(dictionary)\n",
    "pruebas = ['estoy contento', 'vaya mierda']\n",
    "vc_pruebas = np.array([vectorize_input(prueba) for prueba in pruebas])\n",
    "print(vc_pruebas)\n",
    "model.predict(vc_pruebas)"
   ]
  },
  {
   "cell_type": "code",
   "execution_count": null,
   "metadata": {},
   "outputs": [],
   "source": []
  },
  {
   "cell_type": "code",
   "execution_count": null,
   "metadata": {},
   "outputs": [],
   "source": []
  }
 ],
 "metadata": {
  "kernelspec": {
   "display_name": "Python 3",
   "language": "python",
   "name": "python3"
  },
  "language_info": {
   "codemirror_mode": {
    "name": "ipython",
    "version": 3
   },
   "file_extension": ".py",
   "mimetype": "text/x-python",
   "name": "python",
   "nbconvert_exporter": "python",
   "pygments_lexer": "ipython3",
   "version": "3.7.3"
  }
 },
 "nbformat": 4,
 "nbformat_minor": 2
}
