{
 "cells": [
  {
   "cell_type": "markdown",
   "metadata": {},
   "source": [
    "# Ejemplos de la sección 2.2 del libro \"deep learning with python\" (Chollet)"
   ]
  },
  {
   "cell_type": "markdown",
   "metadata": {},
   "source": [
    "## Escalares o tensores 0D\n"
   ]
  },
  {
   "cell_type": "code",
   "execution_count": 2,
   "metadata": {},
   "outputs": [
    {
     "name": "stdout",
     "output_type": "stream",
     "text": [
      "12\n",
      "0\n",
      "()\n"
     ]
    }
   ],
   "source": [
    "import numpy as np\n",
    "x0 = np.array(12)\n",
    "print(x0)\n",
    "print(x0.ndim)\n",
    "print(x0.shape)"
   ]
  },
  {
   "cell_type": "markdown",
   "metadata": {},
   "source": [
    "## Vectores o tensores 1D\n",
    "\n",
    "Un vector es un tensor de dimensión 1.\n",
    "\n",
    "El vector que creamos en la celda siguiente es un vector de dimensión 5, pero sigue siendo un tensor de dimensión 1. Así que no confundir un tensor nD con un vector nD; un vector nD siempre será un tensor 1D, sea cual sea n.\n",
    "\n",
    "El tema es que la dimensionalidad de un tensor es el nº de ejes que tiene dicho tensor. Sería menos confuso y, probablemente más correcto utilizar la palabra \"rango\" de un tensor, pero lo habitual es hablar de su dimensión."
   ]
  },
  {
   "cell_type": "code",
   "execution_count": 3,
   "metadata": {},
   "outputs": [
    {
     "name": "stdout",
     "output_type": "stream",
     "text": [
      "[2 3 5 3 2]\n",
      "1\n",
      "(5,)\n"
     ]
    }
   ],
   "source": [
    "x1 = np.array([2,3,5,3,2])\n",
    "print(x1)\n",
    "print(x1.ndim)\n",
    "print(x1.shape)"
   ]
  },
  {
   "cell_type": "markdown",
   "metadata": {},
   "source": [
    "## Matrices o tensores 2D\n",
    "\n",
    "Una matriz es un tensor de dimensión o rango 2. Se trata de un array de vectores. Tiene, por tanto, dos ejes que se suelen denominar filas y columnas."
   ]
  },
  {
   "cell_type": "code",
   "execution_count": 4,
   "metadata": {},
   "outputs": [
    {
     "name": "stdout",
     "output_type": "stream",
     "text": [
      "[[4 5 6]\n",
      " [2 3 4]]\n",
      "2\n",
      "(2, 3)\n"
     ]
    }
   ],
   "source": [
    "x2 = np.array([[4,5,6],[2,3,4]])\n",
    "print(x2)\n",
    "print(x2.ndim)\n",
    "print(x2.shape)"
   ]
  },
  {
   "cell_type": "markdown",
   "metadata": {},
   "source": [
    "## Tensores 3D y de dimensión mayor\n",
    "Un tensor 3D tiene 3 ejes, que podemos llamar x, y, z. Se trata de empaquetar en un array tensores de dimensión 2. De la misma manera un tensor de dimensión N se construye empaquetando en un array tensores de dimensión N-1."
   ]
  },
  {
   "cell_type": "code",
   "execution_count": 5,
   "metadata": {},
   "outputs": [
    {
     "name": "stdout",
     "output_type": "stream",
     "text": [
      "[[[1 2 3]\n",
      "  [4 3 2]]\n",
      "\n",
      " [[2 4 7]\n",
      "  [3 4 6]]]\n",
      "3\n",
      "(2, 2, 3)\n"
     ]
    }
   ],
   "source": [
    "x3 = np.array([[[1,2,3], [4,3,2]], [[2,4,7], [3,4,6]]])\n",
    "print(x3)\n",
    "print(x3.ndim)\n",
    "print(x3.shape)"
   ]
  },
  {
   "cell_type": "markdown",
   "metadata": {},
   "source": [
    "## Atributos de un tensor"
   ]
  },
  {
   "cell_type": "code",
   "execution_count": 6,
   "metadata": {},
   "outputs": [
    {
     "name": "stdout",
     "output_type": "stream",
     "text": [
      "El rango de x3 es 3\n",
      "la forma de x3 es (2, 2, 3)\n",
      "El tipo de datos de x3 es int64\n"
     ]
    }
   ],
   "source": [
    "# El rango o nº de ejes\n",
    "print(\"El rango de x3 es {}\".format(x3.ndim))\n",
    "# La forma, que es una tupla que indica cuantos elementos tiene el tensor en cada eje\n",
    "print(\"la forma de x3 es {}\".format(x3.shape))\n",
    "# El tipo de datos (dtype) es el tipo de datos que contiene el tensor\n",
    "print(\"El tipo de datos de x3 es {}\".format(x3.dtype))"
   ]
  },
  {
   "cell_type": "markdown",
   "metadata": {},
   "source": [
    "## Ejemplos del dataset mnist"
   ]
  },
  {
   "cell_type": "code",
   "execution_count": 7,
   "metadata": {},
   "outputs": [
    {
     "name": "stderr",
     "output_type": "stream",
     "text": [
      "Using TensorFlow backend.\n"
     ]
    },
    {
     "name": "stdout",
     "output_type": "stream",
     "text": [
      "El rango de train_images es 3\n",
      "la forma de train_images es (60000, 28, 28)\n",
      "El tipo de datos de train_images es uint8\n",
      "El rango de train_labels es 1\n",
      "la forma de train_labels es (60000,)\n",
      "El tipo de datos de train_labels es uint8\n"
     ]
    }
   ],
   "source": [
    "from keras.datasets import mnist\n",
    "\n",
    "(train_images, train_labels), (test_images, test_labels) = mnist.load_data()\n",
    "\n",
    "print(\"El rango de train_images es {}\".format(train_images.ndim))\n",
    "# La forma, que es una tupla que indica cuantos elementos tiene el tensor en cada eje\n",
    "print(\"la forma de train_images es {}\".format(train_images.shape))\n",
    "# El tipo de datos (dtype) es el tipo de datos que contiene el tensor\n",
    "print(\"El tipo de datos de train_images es {}\".format(train_images.dtype))\n",
    "\n",
    "print(\"El rango de train_labels es {}\".format(train_labels.ndim))\n",
    "# La forma, que es una tupla que indica cuantos elementos tiene el tensor en cada eje\n",
    "print(\"la forma de train_labels es {}\".format(train_labels.shape))\n",
    "# El tipo de datos (dtype) es el tipo de datos que contiene el tensor\n",
    "print(\"El tipo de datos de train_labels es {}\".format(train_labels.dtype))"
   ]
  },
  {
   "cell_type": "markdown",
   "metadata": {},
   "source": [
    "## Mostrando graficamente los datos de entrada"
   ]
  },
  {
   "cell_type": "code",
   "execution_count": 8,
   "metadata": {},
   "outputs": [
    {
     "data": {
      "text/plain": [
       "<Figure size 640x480 with 1 Axes>"
      ]
     },
     "metadata": {},
     "output_type": "display_data"
    }
   ],
   "source": [
    "digit = train_images[7]\n",
    "import matplotlib.pyplot as plt\n",
    "\n",
    "plt.imshow(digit, cmap=plt.cm.binary)\n",
    "plt.show()"
   ]
  },
  {
   "cell_type": "markdown",
   "metadata": {},
   "source": [
    "## Manipulando tensores"
   ]
  },
  {
   "cell_type": "code",
   "execution_count": 9,
   "metadata": {},
   "outputs": [
    {
     "data": {
      "text/plain": [
       "array([[  0,   0,   0,   0,   0,   0,   0,   0,   0,   0,   0,   0,   0,\n",
       "          0,   0,   0,   0,   0,   0,   0,   0,   0,   0,   0,   0,   0,\n",
       "          0,   0],\n",
       "       [  0,   0,   0,   0,   0,   0,   0,   0,   0,   0,   0,   0,   0,\n",
       "          0,   0,   0,   0,   0,   0,   0,   0,   0,   0,   0,   0,   0,\n",
       "          0,   0],\n",
       "       [  0,   0,   0,   0,   0,   0,   0,   0,   0,   0,   0,   0,   0,\n",
       "          0,   0,   0,   0,   0,   0,   0,   0,   0,   0,   0,   0,   0,\n",
       "          0,   0],\n",
       "       [  0,   0,   0,   0,   0,   0,   0,   0,   0,   0,   0,   0,   0,\n",
       "          0,   0,   0,   0,   0,   0,   0,   0,   0,   0,   0,   0,   0,\n",
       "          0,   0],\n",
       "       [  0,   0,   0,   0,   0,   0,   0,   0,   0,   0,   0,   0,   0,\n",
       "          0,   0,  51, 159, 253, 159,  50,   0,   0,   0,   0,   0,   0,\n",
       "          0,   0],\n",
       "       [  0,   0,   0,   0,   0,   0,   0,   0,   0,   0,   0,   0,   0,\n",
       "          0,  48, 238, 252, 252, 252, 237,   0,   0,   0,   0,   0,   0,\n",
       "          0,   0],\n",
       "       [  0,   0,   0,   0,   0,   0,   0,   0,   0,   0,   0,   0,   0,\n",
       "         54, 227, 253, 252, 239, 233, 252,  57,   6,   0,   0,   0,   0,\n",
       "          0,   0],\n",
       "       [  0,   0,   0,   0,   0,   0,   0,   0,   0,   0,   0,  10,  60,\n",
       "        224, 252, 253, 252, 202,  84, 252, 253, 122,   0,   0,   0,   0,\n",
       "          0,   0],\n",
       "       [  0,   0,   0,   0,   0,   0,   0,   0,   0,   0,   0, 163, 252,\n",
       "        252, 252, 253, 252, 252,  96, 189, 253, 167,   0,   0,   0,   0,\n",
       "          0,   0],\n",
       "       [  0,   0,   0,   0,   0,   0,   0,   0,   0,   0,  51, 238, 253,\n",
       "        253, 190, 114, 253, 228,  47,  79, 255, 168,   0,   0,   0,   0,\n",
       "          0,   0],\n",
       "       [  0,   0,   0,   0,   0,   0,   0,   0,   0,  48, 238, 252, 252,\n",
       "        179,  12,  75, 121,  21,   0,   0, 253, 243,  50,   0,   0,   0,\n",
       "          0,   0],\n",
       "       [  0,   0,   0,   0,   0,   0,   0,   0,  38, 165, 253, 233, 208,\n",
       "         84,   0,   0,   0,   0,   0,   0, 253, 252, 165,   0,   0,   0,\n",
       "          0,   0],\n",
       "       [  0,   0,   0,   0,   0,   0,   0,   7, 178, 252, 240,  71,  19,\n",
       "         28,   0,   0,   0,   0,   0,   0, 253, 252, 195,   0,   0,   0,\n",
       "          0,   0],\n",
       "       [  0,   0,   0,   0,   0,   0,   0,  57, 252, 252,  63,   0,   0,\n",
       "          0,   0,   0,   0,   0,   0,   0, 253, 252, 195,   0,   0,   0,\n",
       "          0,   0]], dtype=uint8)"
      ]
     },
     "execution_count": 9,
     "metadata": {},
     "output_type": "execute_result"
    }
   ],
   "source": [
    "# tensor slicing\n",
    "\n",
    "train_images[0:10]\n",
    "train_images[0:10, :, :]\n",
    "train_images[:, 0:14, :][1]"
   ]
  },
  {
   "cell_type": "markdown",
   "metadata": {},
   "source": [
    "## Data batches\n",
    "En deep learning el primer eje del tensor, es decir el eje 0, es el denominado eje de muestras, ya que cada elemento a lo largo de ese eje representa una muestra (dato de entrada) del conjunto de entrenamiento o test.\n",
    "\n",
    "Además los modelos de deep-learning no procesan todas las muestras del tirón, sino que dividen los datos en lotes (batches). Por ejemplo de 128 muestras.\n",
    "\n",
    "Al eje 0 se le suele llamar *batch axis* o *batch dimension*"
   ]
  },
  {
   "cell_type": "code",
   "execution_count": 10,
   "metadata": {},
   "outputs": [],
   "source": [
    "batch0 = train_images[0: 128]\n",
    "batch1 = train_images[128: 256]\n",
    "\n",
    "def batch(data, batch_size, n):\n",
    "    return data[batch_size * n : batch_size * (n - 1) ]\n",
    "\n",
    "batch4 = batch(train_images, 128, 4)"
   ]
  },
  {
   "cell_type": "markdown",
   "metadata": {},
   "source": [
    "## Tensores típicos para deep learning\n",
    "\n",
    "Los tensores más típicos son los 2D, en el eje 0 se representa la muestra y en el eje 1 los atributos. Por ejemplo 100000 textos representados como un vector en el que cada elemento representa una palabra de un diccionario. Si el diccionario tiene 2000 palabras, el tensor que representa dichos datos tendría una forma (100000, 2000).\n",
    "\n",
    "Con los tensores 3D se suelen representar series de datos, normalmente temporales. Por ejemplo los valores de temperatura, presión y humedad registrados por una estación meteorológica cada minuto siendo cada día una muestra. Si queremos representar con un tensor los datos recogidos en 30 días, la forma de dicho tensor sería (30, 1440, 3), es decir 30 muestras en las que se registran 3 valores de los sensores (temperatura, presión y humedad) durante 1440 segundos.\n",
    "\n",
    "Con tensores 3D también podemos representar conjuntos de imágenes en escala de grises. Por ejemplo para representar un conjunto de 10000 imágenes con una resolución de 1240 x 720 necesitamos un tensor de forma (10000, 1240, 720).\n",
    "\n",
    "Si la imagen es en color, necesitamos también la información del canal (R, G, B), así para el mismo caso anterior pero en color, necesitamos un tensor de forma (10000, 1240, 720, 3).\n",
    "\n",
    "Por último las muestras de vídeos requieren tensores de 5 dimensiones para representarlas, ya que un vídeo consta de un conjunto de imágenes. Por ejemplo para representar un conjunto de 4 vídeos siendo cada uno de ellos de una resolución de 144 x 256, en color, con una duración de 60 segundos y sampleados a 4 imágenes por segundo necesitamos un tensor de forma (4, 240, 144, 256, 3)."
   ]
  },
  {
   "cell_type": "markdown",
   "metadata": {},
   "source": [
    "# Operaciones con tensores"
   ]
  },
  {
   "cell_type": "markdown",
   "metadata": {},
   "source": [
    "## Operaciones elemento a elemento (element-wise)"
   ]
  },
  {
   "cell_type": "code",
   "execution_count": 25,
   "metadata": {},
   "outputs": [
    {
     "name": "stdout",
     "output_type": "stream",
     "text": [
      "[[ 7 12  9]\n",
      " [ 4  7 12]]\n",
      "[[12 35 18]\n",
      " [ 4  6 35]]\n",
      "[[4 7 6]\n",
      " [3 3 8]]\n"
     ]
    }
   ],
   "source": [
    "x = np.array([[3, 5, 3], [2,1,5]])\n",
    "y = np.array([[4,7,6], [2,6,7]])\n",
    "z = np.array([1,2,3])\n",
    "print(x + y)\n",
    "print(x * y)\n",
    "print(x + z)"
   ]
  },
  {
   "cell_type": "markdown",
   "metadata": {},
   "source": [
    "## Producto escalar (tensor dot)"
   ]
  },
  {
   "cell_type": "code",
   "execution_count": 30,
   "metadata": {},
   "outputs": [
    {
     "name": "stdout",
     "output_type": "stream",
     "text": [
      "[22 19]\n",
      "[[31 74]\n",
      " [31 54]]\n"
     ]
    }
   ],
   "source": [
    "t = np.array([[2,6], [2,7], [5, 7]])\n",
    "print(np.dot(x,z))\n",
    "print(np.dot(x,t))\n"
   ]
  },
  {
   "cell_type": "markdown",
   "metadata": {},
   "source": [
    "## Reshaping"
   ]
  },
  {
   "cell_type": "code",
   "execution_count": 37,
   "metadata": {},
   "outputs": [
    {
     "name": "stdout",
     "output_type": "stream",
     "text": [
      "[[3]\n",
      " [5]\n",
      " [3]\n",
      " [2]\n",
      " [1]\n",
      " [5]]\n",
      "[[3 5 3]\n",
      " [2 1 5]]\n",
      "[[3 2]\n",
      " [5 1]\n",
      " [3 5]]\n"
     ]
    }
   ],
   "source": [
    "k = x.reshape(6,1)\n",
    "print(k)\n",
    "print(x)\n",
    "print(x.transpose())"
   ]
  }
 ],
 "metadata": {
  "kernelspec": {
   "display_name": "Python 3",
   "language": "python",
   "name": "python3"
  },
  "language_info": {
   "codemirror_mode": {
    "name": "ipython",
    "version": 3
   },
   "file_extension": ".py",
   "mimetype": "text/x-python",
   "name": "python",
   "nbconvert_exporter": "python",
   "pygments_lexer": "ipython3",
   "version": "3.7.3"
  }
 },
 "nbformat": 4,
 "nbformat_minor": 2
}
